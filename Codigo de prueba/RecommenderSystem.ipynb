{
 "cells": [
  {
   "cell_type": "markdown",
   "metadata": {},
   "source": [
    "## IMPORTS"
   ]
  },
  {
   "cell_type": "code",
   "execution_count": 831,
   "metadata": {},
   "outputs": [],
   "source": [
    "import random\n",
    "import numpy as np \n",
    "import pandas as pd \n",
    "import ast\n",
    "import seaborn as sns\n",
    "from sklearn.preprocessing import LabelEncoder\n",
    "import time\n",
    "# from sklearn.model_selection import train_test_split\n",
    "# from sklearn.linear_model import LinearRegression\n",
    "# from sklearn.metrics import mean_squared_error\n",
    "# import scipy.stats as stats\n",
    "# from matplotlib.ticker import PercentFormatter\n",
    "from scipy.stats import zscore\n",
    "\n",
    "import re\n",
    "import string\n",
    "from functools import lru_cache\n",
    "import pandas as pd\n",
    "import nltk\n",
    "from nltk.sentiment.vader import SentimentIntensityAnalyzer\n",
    "from joblib import Parallel, delayed\n",
    "from sklearn.preprocessing import MinMaxScaler\n",
    "# nltk.download('vader_lexicon')\n",
    "# nltk.download('punkt')\n",
    "# nltk.download('wordnet')\n",
    "# nltk.download('omw-1.4')"
   ]
  },
  {
   "cell_type": "markdown",
   "metadata": {},
   "source": [
    "## Análisis de sentimientos"
   ]
  },
  {
   "cell_type": "code",
   "execution_count": 832,
   "metadata": {},
   "outputs": [],
   "source": [
    "# Inicializar el analizador de sentimiento de NLTK\n",
    "# sid = SentimentIntensityAnalyzer()\n",
    "\n",
    "# Función para normalizar el compound score (rango [-1,1]) a un rango de 1 a 10\n",
    "# def normalize_sentiment(compound_score):\n",
    "    # Mapear: -1 --> 1 y 1 --> 10\n",
    "    # return ((compound_score + 1) / 2) * 9 + 1\n",
    "\n",
    "# Aplicar análisis de sentimiento a cada comentario y normalizarlo\n",
    "# df['sentiment'] = df['comment'].apply(lambda x: sid.polarity_scores(x)['compound'])\n",
    "# df['sentiment_normalized'] = df['sentiment'].apply(normalize_sentiment)\n",
    "# df.head(5)"
   ]
  },
  {
   "cell_type": "markdown",
   "metadata": {},
   "source": [
    "## Métodos necesarios"
   ]
  },
  {
   "cell_type": "code",
   "execution_count": 833,
   "metadata": {},
   "outputs": [],
   "source": [
    "\n",
    "# Reemplaza los valores atípicos que pueden generar confusión a la hora de entrenar el modelo ML\n",
    "def arreglar_dispersion(df, columnas, z_score_umbral):\n",
    "    for col in columnas:\n",
    "        # Z-score es mide cuántas desviaciones estándar se encuentra un valor respecto a la media.\n",
    "        z_scores = np.abs(zscore(df[col], nan_policy='omit'))  # Calcula Z-score\n",
    "        df.loc[z_scores > z_score_umbral, col] = np.nan  # Sustituye atípicos con NaN\n"
   ]
  },
  {
   "cell_type": "code",
   "execution_count": 834,
   "metadata": {},
   "outputs": [],
   "source": [
    "def comprobar_dispersion(df, cols):\n",
    "    z_scores = df[cols].apply(zscore)\n",
    "\n",
    "# Contar cuántos valores atípicos hay en cada columna (valores con |Z-score| > 3)\n",
    "    outlier_counts = (abs(z_scores) > 3).sum()\n",
    "\n",
    "# Mostrar columnas con valores atípicos\n",
    "    print(outlier_counts[outlier_counts > 0].sort_values(ascending=False))"
   ]
  },
  {
   "cell_type": "code",
   "execution_count": 835,
   "metadata": {},
   "outputs": [],
   "source": [
    "def limpiador_nombres(df_a_limpiar):\n",
    "    # Limpiar nombres de columnas: convertir a minúsculas y reemplazar espacios por '_'\n",
    "    \n",
    "    df_a_limpiar.columns = df_a_limpiar.columns.str.lower().str.replace(' ', '_')\n",
    "\n",
    "    return df_a_limpiar"
   ]
  },
  {
   "cell_type": "markdown",
   "metadata": {},
   "source": [
    "## Código"
   ]
  },
  {
   "cell_type": "markdown",
   "metadata": {},
   "source": [
    "### Constantes"
   ]
  },
  {
   "cell_type": "code",
   "execution_count": 836,
   "metadata": {},
   "outputs": [],
   "source": [
    "# Columnas seleccionas del dataset con la información de los juegos\n",
    "INFO_JUEGO_COLS = ['id',\n",
    "                   'primary',\n",
    "                   'yearpublished',\n",
    "                   'playingtime',\n",
    "                   'boardgamecategory', \n",
    "                   'maxplayers',\n",
    "                   'average']\n",
    "\n",
    "# Columans seleccionadas de las reviews\n",
    "RATING_COLS = ['user',\n",
    "               'rating',\n",
    "               'ID', \n",
    "               'comment']\n",
    "\n",
    "PROBABILIDAD_FALLO = 0.2\n",
    "TOP_JUEGOS = 1000\n",
    "PORCENTAJE = 0.1\n",
    "VOTOS_MINIMOS = 10\n",
    "DELIMITADOR_Z_SCORE = 3\n",
    "EJEMPLO_USUARIO = \"1000rpm\"\n",
    "VALORACION_USUARIO_UMBRAL = 5\n",
    "\n",
    "\n",
    "FILTRO_CATEGORIA = {\n",
    "    \"boardgamecategory\": None\n",
    "}\n",
    "FILTRO_NUMERICO = {\n",
    "    \"playingtime\": None,\n",
    "    \"average\": {\"measure\": \"above\", \"threshold\": 7}\n",
    "}\n"
   ]
  },
  {
   "cell_type": "code",
   "execution_count": 837,
   "metadata": {},
   "outputs": [],
   "source": [
    "# Semilla aleatoria utilizando el tiempo del sistema\n",
    "random.seed(int(time.time()))\n",
    "# Permite transdformar los usuarios a números enteros\n",
    "label_encoder = LabelEncoder()\n",
    "\n",
    "# Para mostrar datos de forma gráfica\n",
    "custom_params = {\"axes.spines.right\": False, \"axes.spines.top\": False}\n",
    "sns.set_theme(style=\"ticks\", rc=custom_params)"
   ]
  },
  {
   "cell_type": "code",
   "execution_count": 838,
   "metadata": {},
   "outputs": [],
   "source": [
    "# Lectura CSV\n",
    "info_juegos = pd.read_csv(\"../data/games_detailed_info.csv\",\n",
    "        usecols=INFO_JUEGO_COLS, \n",
    "        dtype={'id': 'uint32', \n",
    "                'primary': 'string', \n",
    "                'yearpublished': 'uint16', \n",
    "                'maxplayers': 'uint16',\n",
    "                'playingtime': 'uint32',\n",
    "                'average': 'float16'\n",
    "                })\n",
    "\n",
    "\n",
    "# Solucionar dispersión, sustituye por nan\n",
    "arreglar_dispersion(info_juegos, ['playingtime', 'maxplayers'], DELIMITADOR_Z_SCORE)\n",
    "\n",
    "# Eliminar nulos, duplicados.\n",
    "info_juegos = info_juegos.dropna()\n",
    "info_juegos = info_juegos.drop_duplicates()\n",
    "\n",
    "#  Eliminar espacios en blanco\n",
    "info_juegos['primary'] = info_juegos['primary'].str.lower()\n",
    "info_juegos['primary'] = info_juegos['primary'].str.replace(' ', '_')\n",
    "info_juegos['average'] = info_juegos['average'].apply(lambda x: np.around(x, decimals=2))"
   ]
  },
  {
   "cell_type": "code",
   "execution_count": 839,
   "metadata": {},
   "outputs": [
    {
     "data": {
      "text/html": [
       "<div>\n",
       "<style scoped>\n",
       "    .dataframe tbody tr th:only-of-type {\n",
       "        vertical-align: middle;\n",
       "    }\n",
       "\n",
       "    .dataframe tbody tr th {\n",
       "        vertical-align: top;\n",
       "    }\n",
       "\n",
       "    .dataframe thead th {\n",
       "        text-align: right;\n",
       "    }\n",
       "</style>\n",
       "<table border=\"1\" class=\"dataframe\">\n",
       "  <thead>\n",
       "    <tr style=\"text-align: right;\">\n",
       "      <th></th>\n",
       "      <th>id</th>\n",
       "      <th>primary</th>\n",
       "      <th>yearpublished</th>\n",
       "      <th>maxplayers</th>\n",
       "      <th>playingtime</th>\n",
       "      <th>boardgamecategory</th>\n",
       "      <th>average</th>\n",
       "    </tr>\n",
       "  </thead>\n",
       "  <tbody>\n",
       "    <tr>\n",
       "      <th>0</th>\n",
       "      <td>30549</td>\n",
       "      <td>pandemic</td>\n",
       "      <td>2008</td>\n",
       "      <td>4.0</td>\n",
       "      <td>45.0</td>\n",
       "      <td>['Medical']</td>\n",
       "      <td>7.59</td>\n",
       "    </tr>\n",
       "    <tr>\n",
       "      <th>1</th>\n",
       "      <td>822</td>\n",
       "      <td>carcassonne</td>\n",
       "      <td>2000</td>\n",
       "      <td>5.0</td>\n",
       "      <td>45.0</td>\n",
       "      <td>['City Building', 'Medieval', 'Territory Build...</td>\n",
       "      <td>7.42</td>\n",
       "    </tr>\n",
       "    <tr>\n",
       "      <th>2</th>\n",
       "      <td>13</td>\n",
       "      <td>catan</td>\n",
       "      <td>1995</td>\n",
       "      <td>4.0</td>\n",
       "      <td>120.0</td>\n",
       "      <td>['Economic', 'Negotiation']</td>\n",
       "      <td>7.14</td>\n",
       "    </tr>\n",
       "    <tr>\n",
       "      <th>3</th>\n",
       "      <td>68448</td>\n",
       "      <td>7_wonders</td>\n",
       "      <td>2010</td>\n",
       "      <td>7.0</td>\n",
       "      <td>30.0</td>\n",
       "      <td>['Ancient', 'Card Game', 'City Building', 'Civ...</td>\n",
       "      <td>7.73</td>\n",
       "    </tr>\n",
       "    <tr>\n",
       "      <th>4</th>\n",
       "      <td>36218</td>\n",
       "      <td>dominion</td>\n",
       "      <td>2008</td>\n",
       "      <td>4.0</td>\n",
       "      <td>30.0</td>\n",
       "      <td>['Card Game', 'Medieval']</td>\n",
       "      <td>7.61</td>\n",
       "    </tr>\n",
       "  </tbody>\n",
       "</table>\n",
       "</div>"
      ],
      "text/plain": [
       "      id      primary  yearpublished  maxplayers  playingtime  \\\n",
       "0  30549     pandemic           2008         4.0         45.0   \n",
       "1    822  carcassonne           2000         5.0         45.0   \n",
       "2     13        catan           1995         4.0        120.0   \n",
       "3  68448    7_wonders           2010         7.0         30.0   \n",
       "4  36218     dominion           2008         4.0         30.0   \n",
       "\n",
       "                                   boardgamecategory  average  \n",
       "0                                        ['Medical']     7.59  \n",
       "1  ['City Building', 'Medieval', 'Territory Build...     7.42  \n",
       "2                        ['Economic', 'Negotiation']     7.14  \n",
       "3  ['Ancient', 'Card Game', 'City Building', 'Civ...     7.73  \n",
       "4                          ['Card Game', 'Medieval']     7.61  "
      ]
     },
     "execution_count": 839,
     "metadata": {},
     "output_type": "execute_result"
    }
   ],
   "source": [
    "# info_juegos.info()\n",
    "# info_juegos.isnull().values.any()\n",
    "# info_juegos.isnull().sum().sum()\n",
    "# info_juegos.head(10)\n",
    "info_juegos.head()"
   ]
  },
  {
   "cell_type": "code",
   "execution_count": 840,
   "metadata": {},
   "outputs": [
    {
     "name": "stdout",
     "output_type": "stream",
     "text": [
      "<class 'pandas.core.frame.DataFrame'>\n",
      "Index: 21097 entries, 0 to 21630\n",
      "Data columns (total 7 columns):\n",
      " #   Column             Non-Null Count  Dtype  \n",
      "---  ------             --------------  -----  \n",
      " 0   id                 21097 non-null  uint32 \n",
      " 1   primary            21097 non-null  string \n",
      " 2   yearpublished      21097 non-null  uint16 \n",
      " 3   maxplayers         21097 non-null  float64\n",
      " 4   playingtime        21097 non-null  float64\n",
      " 5   boardgamecategory  21097 non-null  object \n",
      " 6   average            21097 non-null  float64\n",
      "dtypes: float64(3), object(1), string(1), uint16(1), uint32(1)\n",
      "memory usage: 4.2 MB\n"
     ]
    }
   ],
   "source": [
    "info_juegos.info(memory_usage=\"deep\")"
   ]
  },
  {
   "cell_type": "code",
   "execution_count": 841,
   "metadata": {},
   "outputs": [],
   "source": [
    "reviews = pd.read_csv(\"../data/bgg-26m-reviews.csv\", \n",
    "                      usecols=RATING_COLS, \n",
    "                      skiprows=lambda x: x > 0 and random.random() >= PROBABILIDAD_FALLO,\n",
    "                      dtype={'user': 'string', \n",
    "                             'rating': 'float16', \n",
    "                             'ID': 'uint32',\n",
    "                             'comment': 'string[pyarrow]' #  Al usar string[pyarrow] se reduce la memoria significativamente\n",
    "                             }) \n",
    "\n",
    "reviews = reviews.dropna()\n",
    "reviews = reviews.drop_duplicates(subset=[\"user\", \"ID\"], keep=\"first\")\n",
    "\n",
    "reviews['rating'] = reviews['rating'].astype(np.int8)"
   ]
  },
  {
   "cell_type": "code",
   "execution_count": 842,
   "metadata": {},
   "outputs": [
    {
     "name": "stdout",
     "output_type": "stream",
     "text": [
      "<class 'pandas.core.frame.DataFrame'>\n",
      "Index: 842690 entries, 1 to 5242076\n",
      "Data columns (total 4 columns):\n",
      " #   Column   Non-Null Count   Dtype \n",
      "---  ------   --------------   ----- \n",
      " 0   user     842690 non-null  string\n",
      " 1   rating   842690 non-null  int8  \n",
      " 2   comment  842690 non-null  string\n",
      " 3   ID       842690 non-null  uint32\n",
      "dtypes: int8(1), string(2), uint32(1)\n",
      "memory usage: 244.2 MB\n"
     ]
    }
   ],
   "source": [
    "reviews.info(memory_usage=\"deep\")"
   ]
  },
  {
   "cell_type": "code",
   "execution_count": 843,
   "metadata": {},
   "outputs": [
    {
     "data": {
      "text/plain": [
       "Index        6741520\n",
       "user        55579561\n",
       "rating        842690\n",
       "comment    189531922\n",
       "ID           3370760\n",
       "dtype: int64"
      ]
     },
     "execution_count": 843,
     "metadata": {},
     "output_type": "execute_result"
    }
   ],
   "source": [
    "reviews.memory_usage(deep=True)"
   ]
  },
  {
   "cell_type": "code",
   "execution_count": 844,
   "metadata": {},
   "outputs": [
    {
     "data": {
      "text/html": [
       "<div>\n",
       "<style scoped>\n",
       "    .dataframe tbody tr th:only-of-type {\n",
       "        vertical-align: middle;\n",
       "    }\n",
       "\n",
       "    .dataframe tbody tr th {\n",
       "        vertical-align: top;\n",
       "    }\n",
       "\n",
       "    .dataframe thead th {\n",
       "        text-align: right;\n",
       "    }\n",
       "</style>\n",
       "<table border=\"1\" class=\"dataframe\">\n",
       "  <thead>\n",
       "    <tr style=\"text-align: right;\">\n",
       "      <th></th>\n",
       "      <th>user</th>\n",
       "      <th>rating</th>\n",
       "      <th>comment</th>\n",
       "      <th>ID</th>\n",
       "    </tr>\n",
       "  </thead>\n",
       "  <tbody>\n",
       "    <tr>\n",
       "      <th>1</th>\n",
       "      <td>dougthonus</td>\n",
       "      <td>10</td>\n",
       "      <td>Currently, this sits on my list as my favorite...</td>\n",
       "      <td>13</td>\n",
       "    </tr>\n",
       "    <tr>\n",
       "      <th>4</th>\n",
       "      <td>hurkle</td>\n",
       "      <td>10</td>\n",
       "      <td>Fantastic game. Got me hooked on games all ove...</td>\n",
       "      <td>13</td>\n",
       "    </tr>\n",
       "    <tr>\n",
       "      <th>5</th>\n",
       "      <td>Thesp</td>\n",
       "      <td>10</td>\n",
       "      <td>One of the best games ever created. Period. Ne...</td>\n",
       "      <td>13</td>\n",
       "    </tr>\n",
       "    <tr>\n",
       "      <th>7</th>\n",
       "      <td>PatB</td>\n",
       "      <td>10</td>\n",
       "      <td>Settlers is a gem. If you havn't played it I s...</td>\n",
       "      <td>13</td>\n",
       "    </tr>\n",
       "    <tr>\n",
       "      <th>9</th>\n",
       "      <td>ScottM</td>\n",
       "      <td>10</td>\n",
       "      <td>Everyone I've shown this to, gamer and non-gam...</td>\n",
       "      <td>13</td>\n",
       "    </tr>\n",
       "  </tbody>\n",
       "</table>\n",
       "</div>"
      ],
      "text/plain": [
       "         user  rating                                            comment  ID\n",
       "1  dougthonus      10  Currently, this sits on my list as my favorite...  13\n",
       "4      hurkle      10  Fantastic game. Got me hooked on games all ove...  13\n",
       "5       Thesp      10  One of the best games ever created. Period. Ne...  13\n",
       "7        PatB      10  Settlers is a gem. If you havn't played it I s...  13\n",
       "9      ScottM      10  Everyone I've shown this to, gamer and non-gam...  13"
      ]
     },
     "execution_count": 844,
     "metadata": {},
     "output_type": "execute_result"
    }
   ],
   "source": [
    "reviews.head()"
   ]
  },
  {
   "cell_type": "code",
   "execution_count": 845,
   "metadata": {},
   "outputs": [
    {
     "data": {
      "text/html": [
       "<div>\n",
       "<style scoped>\n",
       "    .dataframe tbody tr th:only-of-type {\n",
       "        vertical-align: middle;\n",
       "    }\n",
       "\n",
       "    .dataframe tbody tr th {\n",
       "        vertical-align: top;\n",
       "    }\n",
       "\n",
       "    .dataframe thead th {\n",
       "        text-align: right;\n",
       "    }\n",
       "</style>\n",
       "<table border=\"1\" class=\"dataframe\">\n",
       "  <thead>\n",
       "    <tr style=\"text-align: right;\">\n",
       "      <th></th>\n",
       "      <th>user</th>\n",
       "      <th>rating</th>\n",
       "      <th>comment</th>\n",
       "      <th>ID</th>\n",
       "    </tr>\n",
       "  </thead>\n",
       "  <tbody>\n",
       "    <tr>\n",
       "      <th>1</th>\n",
       "      <td>dougthonus</td>\n",
       "      <td>10</td>\n",
       "      <td>Currently, this sits on my list as my favorite...</td>\n",
       "      <td>13</td>\n",
       "    </tr>\n",
       "    <tr>\n",
       "      <th>4</th>\n",
       "      <td>hurkle</td>\n",
       "      <td>10</td>\n",
       "      <td>Fantastic game. Got me hooked on games all ove...</td>\n",
       "      <td>13</td>\n",
       "    </tr>\n",
       "    <tr>\n",
       "      <th>5</th>\n",
       "      <td>Thesp</td>\n",
       "      <td>10</td>\n",
       "      <td>One of the best games ever created. Period. Ne...</td>\n",
       "      <td>13</td>\n",
       "    </tr>\n",
       "    <tr>\n",
       "      <th>7</th>\n",
       "      <td>PatB</td>\n",
       "      <td>10</td>\n",
       "      <td>Settlers is a gem. If you havn't played it I s...</td>\n",
       "      <td>13</td>\n",
       "    </tr>\n",
       "  </tbody>\n",
       "</table>\n",
       "</div>"
      ],
      "text/plain": [
       "         user  rating                                            comment  ID\n",
       "1  dougthonus      10  Currently, this sits on my list as my favorite...  13\n",
       "4      hurkle      10  Fantastic game. Got me hooked on games all ove...  13\n",
       "5       Thesp      10  One of the best games ever created. Period. Ne...  13\n",
       "7        PatB      10  Settlers is a gem. If you havn't played it I s...  13"
      ]
     },
     "execution_count": 845,
     "metadata": {},
     "output_type": "execute_result"
    }
   ],
   "source": [
    "# Filtra por los registros que coinciden con el id de info_juegos\n",
    "reviews = reviews[reviews['ID'].isin(info_juegos['id'])]\n",
    "reviews.head(4)"
   ]
  },
  {
   "cell_type": "code",
   "execution_count": 846,
   "metadata": {},
   "outputs": [
    {
     "name": "stdout",
     "output_type": "stream",
     "text": [
      "<class 'pandas.core.frame.DataFrame'>\n",
      "Index: 788443 entries, 1 to 5242049\n",
      "Data columns (total 4 columns):\n",
      " #   Column   Non-Null Count   Dtype \n",
      "---  ------   --------------   ----- \n",
      " 0   user     788443 non-null  string\n",
      " 1   rating   788443 non-null  int8  \n",
      " 2   comment  788443 non-null  string\n",
      " 3   ID       788443 non-null  uint32\n",
      "dtypes: int8(1), string(2), uint32(1)\n",
      "memory usage: 182.4 MB\n"
     ]
    }
   ],
   "source": [
    "reviews.info()"
   ]
  },
  {
   "cell_type": "code",
   "execution_count": 847,
   "metadata": {},
   "outputs": [
    {
     "data": {
      "text/plain": [
       "<seaborn.axisgrid.FacetGrid at 0x22c0e2fab50>"
      ]
     },
     "execution_count": 847,
     "metadata": {},
     "output_type": "execute_result"
    },
    {
     "data": {
      "image/png": "[encoded data removed]",
      "text/plain": [
       "<Figure size 500x500 with 1 Axes>"
      ]
     },
     "metadata": {},
     "output_type": "display_data"
    }
   ],
   "source": [
    "ax = sns.displot(data=reviews, x='rating', stat='percent', fill=\"blue\")\n",
    "ax.set(xlabel=\"Valoración de los usuarios\",\n",
    "       ylabel='Cantidad de valoraciones',\n",
    "       title='Distribución de las calificaciones')"
   ]
  },
  {
   "cell_type": "code",
   "execution_count": 848,
   "metadata": {},
   "outputs": [
    {
     "data": {
      "text/html": [
       "<div>\n",
       "<style scoped>\n",
       "    .dataframe tbody tr th:only-of-type {\n",
       "        vertical-align: middle;\n",
       "    }\n",
       "\n",
       "    .dataframe tbody tr th {\n",
       "        vertical-align: top;\n",
       "    }\n",
       "\n",
       "    .dataframe thead th {\n",
       "        text-align: right;\n",
       "    }\n",
       "</style>\n",
       "<table border=\"1\" class=\"dataframe\">\n",
       "  <thead>\n",
       "    <tr style=\"text-align: right;\">\n",
       "      <th></th>\n",
       "      <th>ID</th>\n",
       "      <th>rating</th>\n",
       "      <th>user</th>\n",
       "    </tr>\n",
       "  </thead>\n",
       "  <tbody>\n",
       "    <tr>\n",
       "      <th>8911</th>\n",
       "      <td>57183</td>\n",
       "      <td>10.0</td>\n",
       "      <td>1</td>\n",
       "    </tr>\n",
       "    <tr>\n",
       "      <th>18940</th>\n",
       "      <td>284987</td>\n",
       "      <td>10.0</td>\n",
       "      <td>1</td>\n",
       "    </tr>\n",
       "    <tr>\n",
       "      <th>7038</th>\n",
       "      <td>25924</td>\n",
       "      <td>10.0</td>\n",
       "      <td>1</td>\n",
       "    </tr>\n",
       "    <tr>\n",
       "      <th>15774</th>\n",
       "      <td>217270</td>\n",
       "      <td>10.0</td>\n",
       "      <td>3</td>\n",
       "    </tr>\n",
       "    <tr>\n",
       "      <th>15649</th>\n",
       "      <td>213834</td>\n",
       "      <td>10.0</td>\n",
       "      <td>2</td>\n",
       "    </tr>\n",
       "    <tr>\n",
       "      <th>...</th>\n",
       "      <td>...</td>\n",
       "      <td>...</td>\n",
       "      <td>...</td>\n",
       "    </tr>\n",
       "    <tr>\n",
       "      <th>3754</th>\n",
       "      <td>6959</td>\n",
       "      <td>1.0</td>\n",
       "      <td>1</td>\n",
       "    </tr>\n",
       "    <tr>\n",
       "      <th>18639</th>\n",
       "      <td>277565</td>\n",
       "      <td>1.0</td>\n",
       "      <td>2</td>\n",
       "    </tr>\n",
       "    <tr>\n",
       "      <th>14115</th>\n",
       "      <td>182681</td>\n",
       "      <td>1.0</td>\n",
       "      <td>1</td>\n",
       "    </tr>\n",
       "    <tr>\n",
       "      <th>5080</th>\n",
       "      <td>11680</td>\n",
       "      <td>1.0</td>\n",
       "      <td>1</td>\n",
       "    </tr>\n",
       "    <tr>\n",
       "      <th>3710</th>\n",
       "      <td>6880</td>\n",
       "      <td>1.0</td>\n",
       "      <td>2</td>\n",
       "    </tr>\n",
       "  </tbody>\n",
       "</table>\n",
       "<p>20371 rows × 3 columns</p>\n",
       "</div>"
      ],
      "text/plain": [
       "           ID  rating  user\n",
       "8911    57183    10.0     1\n",
       "18940  284987    10.0     1\n",
       "7038    25924    10.0     1\n",
       "15774  217270    10.0     3\n",
       "15649  213834    10.0     2\n",
       "...       ...     ...   ...\n",
       "3754     6959     1.0     1\n",
       "18639  277565     1.0     2\n",
       "14115  182681     1.0     1\n",
       "5080    11680     1.0     1\n",
       "3710     6880     1.0     2\n",
       "\n",
       "[20371 rows x 3 columns]"
      ]
     },
     "execution_count": 848,
     "metadata": {},
     "output_type": "execute_result"
    }
   ],
   "source": [
    "# Genera una tabla agrupando por id de juego y mostrando el número de usuarios que han valorado el juego y la media total de la valoración.\n",
    "rated_games = reviews.groupby(\"ID\").agg({\"rating\": \"mean\", \"user\": \"count\"}).reset_index()\n",
    "rated_games.sort_values(\"rating\", ascending=False)"
   ]
  },
  {
   "cell_type": "markdown",
   "metadata": {},
   "source": [
    "### Sistema de recomendación colaborativo.\n",
    "Sistema de recomendación colaborativo basado en juegos similiares que el usuario valoró positivamente."
   ]
  },
  {
   "cell_type": "code",
   "execution_count": 849,
   "metadata": {},
   "outputs": [
    {
     "data": {
      "text/html": [
       "<div>\n",
       "<style scoped>\n",
       "    .dataframe tbody tr th:only-of-type {\n",
       "        vertical-align: middle;\n",
       "    }\n",
       "\n",
       "    .dataframe tbody tr th {\n",
       "        vertical-align: top;\n",
       "    }\n",
       "\n",
       "    .dataframe thead th {\n",
       "        text-align: right;\n",
       "    }\n",
       "</style>\n",
       "<table border=\"1\" class=\"dataframe\">\n",
       "  <thead>\n",
       "    <tr style=\"text-align: right;\">\n",
       "      <th></th>\n",
       "      <th>ID</th>\n",
       "      <th>rating</th>\n",
       "      <th>user</th>\n",
       "    </tr>\n",
       "  </thead>\n",
       "  <tbody>\n",
       "    <tr>\n",
       "      <th>0</th>\n",
       "      <td>1</td>\n",
       "      <td>7.435540</td>\n",
       "      <td>287</td>\n",
       "    </tr>\n",
       "    <tr>\n",
       "      <th>1</th>\n",
       "      <td>2</td>\n",
       "      <td>6.446809</td>\n",
       "      <td>47</td>\n",
       "    </tr>\n",
       "    <tr>\n",
       "      <th>2</th>\n",
       "      <td>3</td>\n",
       "      <td>7.428571</td>\n",
       "      <td>707</td>\n",
       "    </tr>\n",
       "    <tr>\n",
       "      <th>3</th>\n",
       "      <td>4</td>\n",
       "      <td>6.666667</td>\n",
       "      <td>18</td>\n",
       "    </tr>\n",
       "    <tr>\n",
       "      <th>4</th>\n",
       "      <td>5</td>\n",
       "      <td>7.450734</td>\n",
       "      <td>954</td>\n",
       "    </tr>\n",
       "  </tbody>\n",
       "</table>\n",
       "</div>"
      ],
      "text/plain": [
       "   ID    rating  user\n",
       "0   1  7.435540   287\n",
       "1   2  6.446809    47\n",
       "2   3  7.428571   707\n",
       "3   4  6.666667    18\n",
       "4   5  7.450734   954"
      ]
     },
     "execution_count": 849,
     "metadata": {},
     "output_type": "execute_result"
    }
   ],
   "source": [
    "# Ordenado por juego con mayor cantidad de usuarios que han valorado dicho juego\n",
    "#rated_games = rated_games.sort_values(by='user', ascending=False).head(TOP_JUEGOS)\n",
    "rated_games.head()"
   ]
  },
  {
   "cell_type": "markdown",
   "metadata": {},
   "source": [
    "Filtrado de aquellos juegos que tengan una cantidad mínima de votos para evitar juegos con pocas valoraciones, lo que podría ser menos confiable"
   ]
  },
  {
   "cell_type": "code",
   "execution_count": 850,
   "metadata": {},
   "outputs": [
    {
     "name": "stdout",
     "output_type": "stream",
     "text": [
      "2109\n",
      "3640\n"
     ]
    },
    {
     "data": {
      "text/plain": [
       "user       205689\n",
       "rating     205689\n",
       "comment    205689\n",
       "ID         205689\n",
       "dtype: int64"
      ]
     },
     "execution_count": 850,
     "metadata": {},
     "output_type": "execute_result"
    }
   ],
   "source": [
    "# Media de reviews \n",
    "MEDIA_VOTOS = int(rated_games['user'].mean())\n",
    "\n",
    "# Cantidad de votos que superan la media.\n",
    "votos_superan_media = (rated_games['user'] >= MEDIA_VOTOS).sum()\n",
    "\n",
    "# Cantidad de votos que deben superar el mínimo de votos.\n",
    "MIN_JUEGOS = int(len(info_juegos) * PORCENTAJE)\n",
    "\n",
    "# Número de juegos que se van a seleccionar.\n",
    "SELECCION = int(votos_superan_media * 0.3)\n",
    "\n",
    "print(MIN_JUEGOS)\n",
    "print(votos_superan_media)\n",
    "\n",
    "# Se filtra según los votos y la cantidad de reviews que supera el mínimo de reviews.\n",
    "if MEDIA_VOTOS > 0 and votos_superan_media > MIN_JUEGOS:\n",
    "    rated_games = rated_games[rated_games[\"user\"] >= MEDIA_VOTOS].head(SELECCION) # Se toma solo un porcentaje de todas las reviews.\n",
    "    \n",
    "\n",
    "sample_reviews = reviews[reviews['ID'].isin(rated_games['ID'])]\n",
    "sample_reviews.count()\n"
   ]
  },
  {
   "cell_type": "code",
   "execution_count": 851,
   "metadata": {},
   "outputs": [
    {
     "data": {
      "text/html": [
       "<div>\n",
       "<style scoped>\n",
       "    .dataframe tbody tr th:only-of-type {\n",
       "        vertical-align: middle;\n",
       "    }\n",
       "\n",
       "    .dataframe tbody tr th {\n",
       "        vertical-align: top;\n",
       "    }\n",
       "\n",
       "    .dataframe thead th {\n",
       "        text-align: right;\n",
       "    }\n",
       "</style>\n",
       "<table border=\"1\" class=\"dataframe\">\n",
       "  <thead>\n",
       "    <tr style=\"text-align: right;\">\n",
       "      <th></th>\n",
       "      <th>user</th>\n",
       "      <th>rating</th>\n",
       "      <th>comment</th>\n",
       "      <th>ID</th>\n",
       "    </tr>\n",
       "  </thead>\n",
       "  <tbody>\n",
       "    <tr>\n",
       "      <th>1</th>\n",
       "      <td>dougthonus</td>\n",
       "      <td>10</td>\n",
       "      <td>Currently, this sits on my list as my favorite...</td>\n",
       "      <td>13</td>\n",
       "    </tr>\n",
       "    <tr>\n",
       "      <th>4</th>\n",
       "      <td>hurkle</td>\n",
       "      <td>10</td>\n",
       "      <td>Fantastic game. Got me hooked on games all ove...</td>\n",
       "      <td>13</td>\n",
       "    </tr>\n",
       "    <tr>\n",
       "      <th>5</th>\n",
       "      <td>Thesp</td>\n",
       "      <td>10</td>\n",
       "      <td>One of the best games ever created. Period. Ne...</td>\n",
       "      <td>13</td>\n",
       "    </tr>\n",
       "    <tr>\n",
       "      <th>7</th>\n",
       "      <td>PatB</td>\n",
       "      <td>10</td>\n",
       "      <td>Settlers is a gem. If you havn't played it I s...</td>\n",
       "      <td>13</td>\n",
       "    </tr>\n",
       "    <tr>\n",
       "      <th>9</th>\n",
       "      <td>ScottM</td>\n",
       "      <td>10</td>\n",
       "      <td>Everyone I've shown this to, gamer and non-gam...</td>\n",
       "      <td>13</td>\n",
       "    </tr>\n",
       "  </tbody>\n",
       "</table>\n",
       "</div>"
      ],
      "text/plain": [
       "         user  rating                                            comment  ID\n",
       "1  dougthonus      10  Currently, this sits on my list as my favorite...  13\n",
       "4      hurkle      10  Fantastic game. Got me hooked on games all ove...  13\n",
       "5       Thesp      10  One of the best games ever created. Period. Ne...  13\n",
       "7        PatB      10  Settlers is a gem. If you havn't played it I s...  13\n",
       "9      ScottM      10  Everyone I've shown this to, gamer and non-gam...  13"
      ]
     },
     "execution_count": 851,
     "metadata": {},
     "output_type": "execute_result"
    }
   ],
   "source": [
    "sample_reviews.head()"
   ]
  },
  {
   "cell_type": "code",
   "execution_count": 852,
   "metadata": {},
   "outputs": [
    {
     "data": {
      "text/plain": [
       "Index       1645512\n",
       "user       13533618\n",
       "rating       205689\n",
       "comment    39115383\n",
       "ID           822756\n",
       "dtype: int64"
      ]
     },
     "execution_count": 852,
     "metadata": {},
     "output_type": "execute_result"
    }
   ],
   "source": [
    "sample_reviews.memory_usage(deep=True)"
   ]
  },
  {
   "cell_type": "markdown",
   "metadata": {},
   "source": [
    "#### Matriz de interacción\n",
    "Creación de la matriz de interacción donde el índice es el nombre del usuario, las columnas son los juegos y los valores son las valoraciones de dichos juegos por un usuario concreto"
   ]
  },
  {
   "cell_type": "code",
   "execution_count": 853,
   "metadata": {},
   "outputs": [
    {
     "data": {
      "text/html": [
       "<div>\n",
       "<style scoped>\n",
       "    .dataframe tbody tr th:only-of-type {\n",
       "        vertical-align: middle;\n",
       "    }\n",
       "\n",
       "    .dataframe tbody tr th {\n",
       "        vertical-align: top;\n",
       "    }\n",
       "\n",
       "    .dataframe thead th {\n",
       "        text-align: right;\n",
       "    }\n",
       "</style>\n",
       "<table border=\"1\" class=\"dataframe\">\n",
       "  <thead>\n",
       "    <tr style=\"text-align: right;\">\n",
       "      <th>ID</th>\n",
       "      <th>1</th>\n",
       "      <th>2</th>\n",
       "      <th>3</th>\n",
       "      <th>5</th>\n",
       "      <th>7</th>\n",
       "      <th>9</th>\n",
       "      <th>10</th>\n",
       "      <th>11</th>\n",
       "      <th>12</th>\n",
       "      <th>13</th>\n",
       "      <th>...</th>\n",
       "      <th>20100</th>\n",
       "      <th>20133</th>\n",
       "      <th>20134</th>\n",
       "      <th>20437</th>\n",
       "      <th>20542</th>\n",
       "      <th>20545</th>\n",
       "      <th>20551</th>\n",
       "      <th>20806</th>\n",
       "      <th>20847</th>\n",
       "      <th>20865</th>\n",
       "    </tr>\n",
       "    <tr>\n",
       "      <th>user</th>\n",
       "      <th></th>\n",
       "      <th></th>\n",
       "      <th></th>\n",
       "      <th></th>\n",
       "      <th></th>\n",
       "      <th></th>\n",
       "      <th></th>\n",
       "      <th></th>\n",
       "      <th></th>\n",
       "      <th></th>\n",
       "      <th></th>\n",
       "      <th></th>\n",
       "      <th></th>\n",
       "      <th></th>\n",
       "      <th></th>\n",
       "      <th></th>\n",
       "      <th></th>\n",
       "      <th></th>\n",
       "      <th></th>\n",
       "      <th></th>\n",
       "      <th></th>\n",
       "    </tr>\n",
       "  </thead>\n",
       "  <tbody>\n",
       "    <tr>\n",
       "      <th>-Johnny-</th>\n",
       "      <td>NaN</td>\n",
       "      <td>NaN</td>\n",
       "      <td>NaN</td>\n",
       "      <td>NaN</td>\n",
       "      <td>NaN</td>\n",
       "      <td>NaN</td>\n",
       "      <td>NaN</td>\n",
       "      <td>NaN</td>\n",
       "      <td>NaN</td>\n",
       "      <td>7.0</td>\n",
       "      <td>...</td>\n",
       "      <td>NaN</td>\n",
       "      <td>NaN</td>\n",
       "      <td>6.0</td>\n",
       "      <td>NaN</td>\n",
       "      <td>NaN</td>\n",
       "      <td>NaN</td>\n",
       "      <td>NaN</td>\n",
       "      <td>NaN</td>\n",
       "      <td>NaN</td>\n",
       "      <td>NaN</td>\n",
       "    </tr>\n",
       "    <tr>\n",
       "      <th>-LucaS-</th>\n",
       "      <td>NaN</td>\n",
       "      <td>NaN</td>\n",
       "      <td>NaN</td>\n",
       "      <td>NaN</td>\n",
       "      <td>NaN</td>\n",
       "      <td>NaN</td>\n",
       "      <td>NaN</td>\n",
       "      <td>NaN</td>\n",
       "      <td>NaN</td>\n",
       "      <td>NaN</td>\n",
       "      <td>...</td>\n",
       "      <td>NaN</td>\n",
       "      <td>NaN</td>\n",
       "      <td>NaN</td>\n",
       "      <td>NaN</td>\n",
       "      <td>NaN</td>\n",
       "      <td>NaN</td>\n",
       "      <td>NaN</td>\n",
       "      <td>NaN</td>\n",
       "      <td>NaN</td>\n",
       "      <td>NaN</td>\n",
       "    </tr>\n",
       "    <tr>\n",
       "      <th>-mIDE-</th>\n",
       "      <td>NaN</td>\n",
       "      <td>NaN</td>\n",
       "      <td>NaN</td>\n",
       "      <td>NaN</td>\n",
       "      <td>NaN</td>\n",
       "      <td>NaN</td>\n",
       "      <td>NaN</td>\n",
       "      <td>NaN</td>\n",
       "      <td>NaN</td>\n",
       "      <td>NaN</td>\n",
       "      <td>...</td>\n",
       "      <td>NaN</td>\n",
       "      <td>NaN</td>\n",
       "      <td>NaN</td>\n",
       "      <td>NaN</td>\n",
       "      <td>NaN</td>\n",
       "      <td>NaN</td>\n",
       "      <td>NaN</td>\n",
       "      <td>NaN</td>\n",
       "      <td>NaN</td>\n",
       "      <td>NaN</td>\n",
       "    </tr>\n",
       "    <tr>\n",
       "      <th>-xXx-</th>\n",
       "      <td>NaN</td>\n",
       "      <td>NaN</td>\n",
       "      <td>10.0</td>\n",
       "      <td>NaN</td>\n",
       "      <td>NaN</td>\n",
       "      <td>NaN</td>\n",
       "      <td>NaN</td>\n",
       "      <td>NaN</td>\n",
       "      <td>NaN</td>\n",
       "      <td>NaN</td>\n",
       "      <td>...</td>\n",
       "      <td>NaN</td>\n",
       "      <td>NaN</td>\n",
       "      <td>NaN</td>\n",
       "      <td>NaN</td>\n",
       "      <td>NaN</td>\n",
       "      <td>NaN</td>\n",
       "      <td>NaN</td>\n",
       "      <td>NaN</td>\n",
       "      <td>NaN</td>\n",
       "      <td>NaN</td>\n",
       "    </tr>\n",
       "    <tr>\n",
       "      <th>.JcK.</th>\n",
       "      <td>NaN</td>\n",
       "      <td>NaN</td>\n",
       "      <td>NaN</td>\n",
       "      <td>NaN</td>\n",
       "      <td>NaN</td>\n",
       "      <td>NaN</td>\n",
       "      <td>NaN</td>\n",
       "      <td>NaN</td>\n",
       "      <td>NaN</td>\n",
       "      <td>NaN</td>\n",
       "      <td>...</td>\n",
       "      <td>NaN</td>\n",
       "      <td>NaN</td>\n",
       "      <td>NaN</td>\n",
       "      <td>NaN</td>\n",
       "      <td>NaN</td>\n",
       "      <td>NaN</td>\n",
       "      <td>NaN</td>\n",
       "      <td>NaN</td>\n",
       "      <td>NaN</td>\n",
       "      <td>NaN</td>\n",
       "    </tr>\n",
       "  </tbody>\n",
       "</table>\n",
       "<p>5 rows × 1092 columns</p>\n",
       "</div>"
      ],
      "text/plain": [
       "ID        1      2      3      5      7      9      10     11     12     \\\n",
       "user                                                                      \n",
       "-Johnny-    NaN    NaN    NaN    NaN    NaN    NaN    NaN    NaN    NaN   \n",
       "-LucaS-     NaN    NaN    NaN    NaN    NaN    NaN    NaN    NaN    NaN   \n",
       "-mIDE-      NaN    NaN    NaN    NaN    NaN    NaN    NaN    NaN    NaN   \n",
       "-xXx-       NaN    NaN   10.0    NaN    NaN    NaN    NaN    NaN    NaN   \n",
       ".JcK.       NaN    NaN    NaN    NaN    NaN    NaN    NaN    NaN    NaN   \n",
       "\n",
       "ID        13     ...  20100  20133  20134  20437  20542  20545  20551  20806  \\\n",
       "user             ...                                                           \n",
       "-Johnny-    7.0  ...    NaN    NaN    6.0    NaN    NaN    NaN    NaN    NaN   \n",
       "-LucaS-     NaN  ...    NaN    NaN    NaN    NaN    NaN    NaN    NaN    NaN   \n",
       "-mIDE-      NaN  ...    NaN    NaN    NaN    NaN    NaN    NaN    NaN    NaN   \n",
       "-xXx-       NaN  ...    NaN    NaN    NaN    NaN    NaN    NaN    NaN    NaN   \n",
       ".JcK.       NaN  ...    NaN    NaN    NaN    NaN    NaN    NaN    NaN    NaN   \n",
       "\n",
       "ID        20847  20865  \n",
       "user                    \n",
       "-Johnny-    NaN    NaN  \n",
       "-LucaS-     NaN    NaN  \n",
       "-mIDE-      NaN    NaN  \n",
       "-xXx-       NaN    NaN  \n",
       ".JcK.       NaN    NaN  \n",
       "\n",
       "[5 rows x 1092 columns]"
      ]
     },
     "execution_count": 853,
     "metadata": {},
     "output_type": "execute_result"
    }
   ],
   "source": [
    "# Creación de la matriz de interacción. x = ID, y = user, valor = rating\n",
    "games_matrix = sample_reviews.pivot_table(index='user', columns='ID', values='rating')\n",
    "\n",
    "# Se rellenan los nulos con ceros para cálculos posteriores.\n",
    "# games_matrix.fillna(0) \n",
    "games_matrix.head()\n"
   ]
  },
  {
   "cell_type": "markdown",
   "metadata": {},
   "source": [
    "#### Usuario aleatorio\n",
    "Coge un usuario de forma aleatoria para hacer un caso de uso"
   ]
  },
  {
   "cell_type": "code",
   "execution_count": 854,
   "metadata": {},
   "outputs": [
    {
     "name": "stdout",
     "output_type": "stream",
     "text": [
      "1000rpm\n"
     ]
    }
   ],
   "source": [
    "if EJEMPLO_USUARIO is None:\n",
    "    user_id = games_matrix.sample(n=1, axis=0).index[0]\n",
    "else:\n",
    "    user_id = EJEMPLO_USUARIO\n",
    "    \n",
    "print(user_id)"
   ]
  },
  {
   "cell_type": "code",
   "execution_count": 855,
   "metadata": {},
   "outputs": [
    {
     "data": {
      "text/plain": [
       "ID\n",
       "10    6.0\n",
       "14    8.0\n",
       "70    6.0\n",
       "74    7.0\n",
       "94    7.0\n",
       "Name: 1000rpm, dtype: float64"
      ]
     },
     "execution_count": 855,
     "metadata": {},
     "output_type": "execute_result"
    }
   ],
   "source": [
    "# Busca las valoraciones de un usuario específico guardándolos como una serie\n",
    "user_ratings = games_matrix.loc[user_id]\n",
    "user_ratings = user_ratings.dropna()\n",
    "user_ratings.head()"
   ]
  },
  {
   "cell_type": "code",
   "execution_count": 856,
   "metadata": {},
   "outputs": [
    {
     "data": {
      "text/plain": [
       "53"
      ]
     },
     "execution_count": 856,
     "metadata": {},
     "output_type": "execute_result"
    }
   ],
   "source": [
    "len(user_ratings)"
   ]
  },
  {
   "cell_type": "code",
   "execution_count": 857,
   "metadata": {},
   "outputs": [
    {
     "data": {
      "text/html": [
       "<div>\n",
       "<style scoped>\n",
       "    .dataframe tbody tr th:only-of-type {\n",
       "        vertical-align: middle;\n",
       "    }\n",
       "\n",
       "    .dataframe tbody tr th {\n",
       "        vertical-align: top;\n",
       "    }\n",
       "\n",
       "    .dataframe thead th {\n",
       "        text-align: right;\n",
       "    }\n",
       "</style>\n",
       "<table border=\"1\" class=\"dataframe\">\n",
       "  <thead>\n",
       "    <tr style=\"text-align: right;\">\n",
       "      <th></th>\n",
       "      <th>ID</th>\n",
       "      <th>rating</th>\n",
       "    </tr>\n",
       "  </thead>\n",
       "  <tbody>\n",
       "    <tr>\n",
       "      <th>0</th>\n",
       "      <td>10</td>\n",
       "      <td>6.0</td>\n",
       "    </tr>\n",
       "    <tr>\n",
       "      <th>1</th>\n",
       "      <td>14</td>\n",
       "      <td>8.0</td>\n",
       "    </tr>\n",
       "    <tr>\n",
       "      <th>2</th>\n",
       "      <td>70</td>\n",
       "      <td>6.0</td>\n",
       "    </tr>\n",
       "    <tr>\n",
       "      <th>3</th>\n",
       "      <td>74</td>\n",
       "      <td>7.0</td>\n",
       "    </tr>\n",
       "    <tr>\n",
       "      <th>4</th>\n",
       "      <td>94</td>\n",
       "      <td>7.0</td>\n",
       "    </tr>\n",
       "  </tbody>\n",
       "</table>\n",
       "</div>"
      ],
      "text/plain": [
       "   ID  rating\n",
       "0  10     6.0\n",
       "1  14     8.0\n",
       "2  70     6.0\n",
       "3  74     7.0\n",
       "4  94     7.0"
      ]
     },
     "execution_count": 857,
     "metadata": {},
     "output_type": "execute_result"
    }
   ],
   "source": [
    "# Se filtra por las valoraciones que sean mayores que el umbral\n",
    "juegos_valorados = user_ratings[user_ratings >= VALORACION_USUARIO_UMBRAL]\n",
    "df_juegos_valorados = juegos_valorados.reset_index()\n",
    "df_juegos_valorados.columns = ['ID', 'rating']\n",
    "df_juegos_valorados.head()"
   ]
  },
  {
   "cell_type": "code",
   "execution_count": 858,
   "metadata": {},
   "outputs": [
    {
     "data": {
      "text/plain": [
       "ID\n",
       "1    0.0\n",
       "2    0.0\n",
       "3    0.0\n",
       "5    0.0\n",
       "7    0.0\n",
       "dtype: float64"
      ]
     },
     "execution_count": 858,
     "metadata": {},
     "output_type": "execute_result"
    }
   ],
   "source": [
    "# Serie inicializada que contendrá las ponderaciones\n",
    "similitud_ponderada = pd.Series(np.zeros(games_matrix.shape[1]), index=games_matrix.columns)\n",
    "similitud_ponderada.head()"
   ]
  },
  {
   "cell_type": "code",
   "execution_count": 859,
   "metadata": {},
   "outputs": [
    {
     "name": "stderr",
     "output_type": "stream",
     "text": [
      "C:\\Users\\isaac\\AppData\\Local\\Packages\\PythonSoftwareFoundation.Python.3.11_qbz5n2kfra8p0\\LocalCache\\local-packages\\Python311\\site-packages\\numpy\\lib\\function_base.py:2846: RuntimeWarning: Degrees of freedom <= 0 for slice\n",
      "  c = cov(x, y, rowvar, dtype=dtype)\n",
      "C:\\Users\\isaac\\AppData\\Local\\Packages\\PythonSoftwareFoundation.Python.3.11_qbz5n2kfra8p0\\LocalCache\\local-packages\\Python311\\site-packages\\numpy\\lib\\function_base.py:2705: RuntimeWarning: divide by zero encountered in divide\n",
      "  c *= np.true_divide(1, fact)\n",
      "C:\\Users\\isaac\\AppData\\Local\\Packages\\PythonSoftwareFoundation.Python.3.11_qbz5n2kfra8p0\\LocalCache\\local-packages\\Python311\\site-packages\\numpy\\lib\\function_base.py:2705: RuntimeWarning: invalid value encountered in multiply\n",
      "  c *= np.true_divide(1, fact)\n",
      "C:\\Users\\isaac\\AppData\\Local\\Packages\\PythonSoftwareFoundation.Python.3.11_qbz5n2kfra8p0\\LocalCache\\local-packages\\Python311\\site-packages\\numpy\\lib\\function_base.py:2854: RuntimeWarning: invalid value encountered in divide\n",
      "  c /= stddev[:, None]\n",
      "C:\\Users\\isaac\\AppData\\Local\\Packages\\PythonSoftwareFoundation.Python.3.11_qbz5n2kfra8p0\\LocalCache\\local-packages\\Python311\\site-packages\\numpy\\lib\\function_base.py:2855: RuntimeWarning: invalid value encountered in divide\n",
      "  c /= stddev[None, :]\n"
     ]
    }
   ],
   "source": [
    "# Se valora la similitud entre usuarios a la hora de valorar otros juegos\n",
    "# U1: Juego A = 8, Juego B = 8\n",
    "# U2: Juego A = 8, Juego B = 8\n",
    "# U3: Juego A = 7, Juego B = 7\n",
    "# Tendrían una correlación de 1 por valorar de manera similar los 3 usuarios\n",
    "\n",
    "\n",
    "# juegos_valorados es una serie con el id de los juegos y sus valoraciones del usuario objetivo\n",
    "for game_id, rating in juegos_valorados.items():\n",
    "    # Obtiene la correlación del juego valorado del usuario objetivo con el resto de juegos de games_matrix y devolviendo una serie\n",
    "    # La correlación va desde -1 a 1\n",
    "    corr_series = games_matrix.corrwith(games_matrix[game_id])\n",
    "    corr_series = corr_series + 1\n",
    "    # Reemplazamos NaN por 0 en la correlación\n",
    "    corr_series = corr_series.fillna(0)\n",
    "    # Se suma esa correlación a cada juego de similitud_ponderada\n",
    "    similitud_ponderada = similitud_ponderada.add(corr_series, fill_value=0)\n",
    "    \n",
    "\n",
    "similitud_ponderada = similitud_ponderada.astype(np.float16)\n"
   ]
  },
  {
   "cell_type": "code",
   "execution_count": 860,
   "metadata": {},
   "outputs": [
    {
     "data": {
      "text/plain": [
       "47"
      ]
     },
     "execution_count": 860,
     "metadata": {},
     "output_type": "execute_result"
    }
   ],
   "source": [
    "len(juegos_valorados)"
   ]
  },
  {
   "cell_type": "code",
   "execution_count": 861,
   "metadata": {},
   "outputs": [
    {
     "data": {
      "text/plain": [
       "ID\n",
       "18258    68.00000\n",
       "112      62.93750\n",
       "15364    62.46875\n",
       "12761    61.34375\n",
       "2921     61.28125\n",
       "dtype: float16"
      ]
     },
     "execution_count": 861,
     "metadata": {},
     "output_type": "execute_result"
    }
   ],
   "source": [
    "similitud_ponderada.sort_values(ascending=False).head()"
   ]
  },
  {
   "cell_type": "code",
   "execution_count": 862,
   "metadata": {},
   "outputs": [
    {
     "name": "stdout",
     "output_type": "stream",
     "text": [
      "94\n",
      "ID\n",
      "18258    0.723633\n",
      "112      0.669434\n",
      "15364    0.664551\n",
      "12761    0.652832\n",
      "2921     0.651855\n",
      "dtype: float16\n"
     ]
    },
    {
     "data": {
      "text/plain": [
       "1092"
      ]
     },
     "execution_count": 862,
     "metadata": {},
     "output_type": "execute_result"
    }
   ],
   "source": [
    "# Convertir en promedio ponderado para que no importe si el usuario objetivo ha valorado muchos o pocos juegos. Evita la dispersión\n",
    "peso_total = len(juegos_valorados) * 2\n",
    "print(peso_total)\n",
    "if peso_total != 0:\n",
    "    similitud_ponderada = similitud_ponderada / peso_total\n",
    "    \n",
    "print(similitud_ponderada.sort_values(ascending=False).head())\n",
    "len(similitud_ponderada)"
   ]
  },
  {
   "cell_type": "code",
   "execution_count": 863,
   "metadata": {},
   "outputs": [],
   "source": [
    "# Conversión en dataframe\n",
    "df_similitud_ponderada = similitud_ponderada.reset_index()\n",
    "df_similitud_ponderada.columns = ['ID', 'ponderacion']"
   ]
  },
  {
   "cell_type": "markdown",
   "metadata": {},
   "source": [
    "## A partir de aquí análisis de sentimientos con el dataframe sample_reviews"
   ]
  },
  {
   "cell_type": "code",
   "execution_count": 864,
   "metadata": {},
   "outputs": [
    {
     "name": "stdout",
     "output_type": "stream",
     "text": [
      "         user  rating                                            comment  ID  \\\n",
      "1  dougthonus      10  Currently, this sits on my list as my favorite...  13   \n",
      "4      hurkle      10  Fantastic game. Got me hooked on games all ove...  13   \n",
      "5       Thesp      10  One of the best games ever created. Period. Ne...  13   \n",
      "7        PatB      10  Settlers is a gem. If you havn't played it I s...  13   \n",
      "9      ScottM      10  Everyone I've shown this to, gamer and non-gam...  13   \n",
      "\n",
      "   sentiment  \n",
      "1     1.4588  \n",
      "4     1.5574  \n",
      "5     1.8402  \n",
      "7     0.7416  \n",
      "9     1.0000  \n"
     ]
    },
    {
     "name": "stderr",
     "output_type": "stream",
     "text": [
      "C:\\Users\\isaac\\AppData\\Local\\Temp\\ipykernel_23620\\1039532491.py:2: SettingWithCopyWarning: \n",
      "A value is trying to be set on a copy of a slice from a DataFrame.\n",
      "Try using .loc[row_indexer,col_indexer] = value instead\n",
      "\n",
      "See the caveats in the documentation: https://pandas.pydata.org/pandas-docs/stable/user_guide/indexing.html#returning-a-view-versus-a-copy\n",
      "  sample_reviews['sentiment'] = sample_reviews['comment'].apply(\n"
     ]
    }
   ],
   "source": [
    "sia = SentimentIntensityAnalyzer()\n",
    "sample_reviews['sentiment'] = sample_reviews['comment'].apply(\n",
    "    lambda comment: (sia.polarity_scores(comment)['compound'] + 1) if isinstance(comment, str) else 0)\n",
    "\n",
    "print(sample_reviews.head())"
   ]
  },
  {
   "cell_type": "code",
   "execution_count": 865,
   "metadata": {},
   "outputs": [
    {
     "data": {
      "text/html": [
       "<div>\n",
       "<style scoped>\n",
       "    .dataframe tbody tr th:only-of-type {\n",
       "        vertical-align: middle;\n",
       "    }\n",
       "\n",
       "    .dataframe tbody tr th {\n",
       "        vertical-align: top;\n",
       "    }\n",
       "\n",
       "    .dataframe thead th {\n",
       "        text-align: right;\n",
       "    }\n",
       "</style>\n",
       "<table border=\"1\" class=\"dataframe\">\n",
       "  <thead>\n",
       "    <tr style=\"text-align: right;\">\n",
       "      <th></th>\n",
       "      <th>ID</th>\n",
       "      <th>avg_sentiment</th>\n",
       "    </tr>\n",
       "  </thead>\n",
       "  <tbody>\n",
       "    <tr>\n",
       "      <th>213</th>\n",
       "      <td>490</td>\n",
       "      <td>0.869570</td>\n",
       "    </tr>\n",
       "    <tr>\n",
       "      <th>900</th>\n",
       "      <td>11096</td>\n",
       "      <td>0.833006</td>\n",
       "    </tr>\n",
       "    <tr>\n",
       "      <th>981</th>\n",
       "      <td>15410</td>\n",
       "      <td>0.822757</td>\n",
       "    </tr>\n",
       "    <tr>\n",
       "      <th>755</th>\n",
       "      <td>6351</td>\n",
       "      <td>0.815312</td>\n",
       "    </tr>\n",
       "    <tr>\n",
       "      <th>715</th>\n",
       "      <td>5306</td>\n",
       "      <td>0.813632</td>\n",
       "    </tr>\n",
       "  </tbody>\n",
       "</table>\n",
       "</div>"
      ],
      "text/plain": [
       "        ID  avg_sentiment\n",
       "213    490       0.869570\n",
       "900  11096       0.833006\n",
       "981  15410       0.822757\n",
       "755   6351       0.815312\n",
       "715   5306       0.813632"
      ]
     },
     "execution_count": 865,
     "metadata": {},
     "output_type": "execute_result"
    }
   ],
   "source": [
    "df_avg_sentiment = sample_reviews.groupby('ID')['sentiment'].mean().reset_index().rename(columns={'sentiment': 'avg_sentiment'})\n",
    "df_avg_sentiment['avg_sentiment'] = df_avg_sentiment['avg_sentiment'] * 0.5\n",
    "df_avg_sentiment.sort_values(by='avg_sentiment', ascending=False).head()\n",
    "\n"
   ]
  },
  {
   "cell_type": "code",
   "execution_count": 866,
   "metadata": {},
   "outputs": [
    {
     "name": "stdout",
     "output_type": "stream",
     "text": [
      "1039\n",
      "1039\n"
     ]
    }
   ],
   "source": [
    "# Elimina de la lista aquellos juegos que el usuario ya ha valorado\n",
    "user_ratings = user_ratings.index.tolist()\n",
    "df_similitud_ponderada = df_similitud_ponderada[~df_similitud_ponderada['ID'].isin(user_ratings)]\n",
    "df_avg_sentiment = df_avg_sentiment[~df_avg_sentiment['ID'].isin(user_ratings)]\n",
    "print(len(df_similitud_ponderada))\n",
    "print(len(df_avg_sentiment))"
   ]
  },
  {
   "cell_type": "code",
   "execution_count": 867,
   "metadata": {},
   "outputs": [
    {
     "data": {
      "text/html": [
       "<div>\n",
       "<style scoped>\n",
       "    .dataframe tbody tr th:only-of-type {\n",
       "        vertical-align: middle;\n",
       "    }\n",
       "\n",
       "    .dataframe tbody tr th {\n",
       "        vertical-align: top;\n",
       "    }\n",
       "\n",
       "    .dataframe thead th {\n",
       "        text-align: right;\n",
       "    }\n",
       "</style>\n",
       "<table border=\"1\" class=\"dataframe\">\n",
       "  <thead>\n",
       "    <tr style=\"text-align: right;\">\n",
       "      <th></th>\n",
       "      <th>ID</th>\n",
       "      <th>ponderacion</th>\n",
       "    </tr>\n",
       "  </thead>\n",
       "  <tbody>\n",
       "    <tr>\n",
       "      <th>935</th>\n",
       "      <td>12761</td>\n",
       "      <td>0.652832</td>\n",
       "    </tr>\n",
       "    <tr>\n",
       "      <th>165</th>\n",
       "      <td>340</td>\n",
       "      <td>0.635742</td>\n",
       "    </tr>\n",
       "    <tr>\n",
       "      <th>1010</th>\n",
       "      <td>16986</td>\n",
       "      <td>0.634277</td>\n",
       "    </tr>\n",
       "    <tr>\n",
       "      <th>216</th>\n",
       "      <td>494</td>\n",
       "      <td>0.632812</td>\n",
       "    </tr>\n",
       "    <tr>\n",
       "      <th>521</th>\n",
       "      <td>2425</td>\n",
       "      <td>0.629395</td>\n",
       "    </tr>\n",
       "  </tbody>\n",
       "</table>\n",
       "</div>"
      ],
      "text/plain": [
       "         ID  ponderacion\n",
       "935   12761     0.652832\n",
       "165     340     0.635742\n",
       "1010  16986     0.634277\n",
       "216     494     0.632812\n",
       "521    2425     0.629395"
      ]
     },
     "execution_count": 867,
     "metadata": {},
     "output_type": "execute_result"
    }
   ],
   "source": [
    "# Filtramos para obtener la ponderación ordenada de forma ascendente\n",
    "df_similitud_ponderada = df_similitud_ponderada.sort_values(ascending=False, by='ponderacion')\n",
    "df_similitud_ponderada.head()"
   ]
  },
  {
   "cell_type": "code",
   "execution_count": 868,
   "metadata": {},
   "outputs": [
    {
     "data": {
      "text/html": [
       "<div>\n",
       "<style scoped>\n",
       "    .dataframe tbody tr th:only-of-type {\n",
       "        vertical-align: middle;\n",
       "    }\n",
       "\n",
       "    .dataframe tbody tr th {\n",
       "        vertical-align: top;\n",
       "    }\n",
       "\n",
       "    .dataframe thead th {\n",
       "        text-align: right;\n",
       "    }\n",
       "</style>\n",
       "<table border=\"1\" class=\"dataframe\">\n",
       "  <thead>\n",
       "    <tr style=\"text-align: right;\">\n",
       "      <th></th>\n",
       "      <th>ID</th>\n",
       "      <th>ponderacion</th>\n",
       "      <th>primary</th>\n",
       "      <th>yearpublished</th>\n",
       "      <th>maxplayers</th>\n",
       "      <th>playingtime</th>\n",
       "      <th>boardgamecategory</th>\n",
       "      <th>average</th>\n",
       "      <th>avg_sentiment</th>\n",
       "    </tr>\n",
       "  </thead>\n",
       "  <tbody>\n",
       "    <tr>\n",
       "      <th>0</th>\n",
       "      <td>12761</td>\n",
       "      <td>0.652832</td>\n",
       "      <td>ys</td>\n",
       "      <td>2004</td>\n",
       "      <td>4.0</td>\n",
       "      <td>90.0</td>\n",
       "      <td>['Bluffing', 'Medieval']</td>\n",
       "      <td>6.89</td>\n",
       "      <td>0.713208</td>\n",
       "    </tr>\n",
       "    <tr>\n",
       "      <th>1</th>\n",
       "      <td>340</td>\n",
       "      <td>0.635742</td>\n",
       "      <td>frank's_zoo</td>\n",
       "      <td>1999</td>\n",
       "      <td>7.0</td>\n",
       "      <td>60.0</td>\n",
       "      <td>['Animals', 'Card Game']</td>\n",
       "      <td>6.61</td>\n",
       "      <td>0.732860</td>\n",
       "    </tr>\n",
       "    <tr>\n",
       "      <th>2</th>\n",
       "      <td>16986</td>\n",
       "      <td>0.634277</td>\n",
       "      <td>ubongo</td>\n",
       "      <td>2003</td>\n",
       "      <td>4.0</td>\n",
       "      <td>25.0</td>\n",
       "      <td>['Puzzle', 'Real-time']</td>\n",
       "      <td>6.70</td>\n",
       "      <td>0.694026</td>\n",
       "    </tr>\n",
       "    <tr>\n",
       "      <th>3</th>\n",
       "      <td>494</td>\n",
       "      <td>0.632812</td>\n",
       "      <td>ave_caesar</td>\n",
       "      <td>1989</td>\n",
       "      <td>6.0</td>\n",
       "      <td>30.0</td>\n",
       "      <td>['Ancient', 'Racing']</td>\n",
       "      <td>6.63</td>\n",
       "      <td>0.728868</td>\n",
       "    </tr>\n",
       "    <tr>\n",
       "      <th>4</th>\n",
       "      <td>2425</td>\n",
       "      <td>0.629395</td>\n",
       "      <td>battleship</td>\n",
       "      <td>1931</td>\n",
       "      <td>2.0</td>\n",
       "      <td>30.0</td>\n",
       "      <td>[\"Children's Game\", 'Deduction', 'Nautical', '...</td>\n",
       "      <td>4.66</td>\n",
       "      <td>0.625774</td>\n",
       "    </tr>\n",
       "  </tbody>\n",
       "</table>\n",
       "</div>"
      ],
      "text/plain": [
       "      ID  ponderacion      primary  yearpublished  maxplayers  playingtime  \\\n",
       "0  12761     0.652832           ys           2004         4.0         90.0   \n",
       "1    340     0.635742  frank's_zoo           1999         7.0         60.0   \n",
       "2  16986     0.634277       ubongo           2003         4.0         25.0   \n",
       "3    494     0.632812   ave_caesar           1989         6.0         30.0   \n",
       "4   2425     0.629395   battleship           1931         2.0         30.0   \n",
       "\n",
       "                                   boardgamecategory  average  avg_sentiment  \n",
       "0                           ['Bluffing', 'Medieval']     6.89       0.713208  \n",
       "1                           ['Animals', 'Card Game']     6.61       0.732860  \n",
       "2                            ['Puzzle', 'Real-time']     6.70       0.694026  \n",
       "3                              ['Ancient', 'Racing']     6.63       0.728868  \n",
       "4  [\"Children's Game\", 'Deduction', 'Nautical', '...     4.66       0.625774  "
      ]
     },
     "execution_count": 868,
     "metadata": {},
     "output_type": "execute_result"
    }
   ],
   "source": [
    "df_analizado = df_similitud_ponderada.merge(info_juegos, left_on='ID', right_on='id', how='left')\n",
    "df_analizado = df_analizado.drop(['id'], axis=1)\n",
    "df_analizado = df_analizado.merge(df_avg_sentiment, left_on='ID', right_on='ID', how='left')\n",
    "df_analizado.head()"
   ]
  },
  {
   "cell_type": "code",
   "execution_count": 869,
   "metadata": {},
   "outputs": [
    {
     "data": {
      "text/plain": [
       "id                   47\n",
       "primary              47\n",
       "yearpublished        47\n",
       "maxplayers           47\n",
       "playingtime          47\n",
       "boardgamecategory    47\n",
       "average              47\n",
       "dtype: int64"
      ]
     },
     "execution_count": 869,
     "metadata": {},
     "output_type": "execute_result"
    }
   ],
   "source": [
    "# La información completa de aquellos juegos valorados por el usuario objetivo\n",
    "juegos_valorados_info = info_juegos[info_juegos['id'].isin(df_juegos_valorados['ID'])]\n",
    "\n",
    "\n",
    "# Filtrado de categorías jugadas por el usuario objetivo\n",
    "game_category = juegos_valorados_info['boardgamecategory'].apply(\n",
    "    lambda x: ast.literal_eval(x) if isinstance(x, str) else x)\n",
    "\n",
    "FILTRO_CATEGORIA = {categoria for lista in game_category for categoria in lista}\n",
    "juegos_valorados_info.count()"
   ]
  },
  {
   "cell_type": "code",
   "execution_count": 870,
   "metadata": {},
   "outputs": [
    {
     "name": "stdout",
     "output_type": "stream",
     "text": [
      "{'Novel-based', 'Negotiation', 'Political', 'Civilization', 'Mature / Adult', 'Trains', 'Nautical', \"Children's Game\", 'Miniatures', 'Abstract Strategy', 'Economic', 'Trivia', 'Horror', 'Wargame', 'Action / Dexterity', 'Mythology', 'Fantasy', 'Animals', 'Deduction', 'Prehistoric', 'Napoleonic', 'Humor', 'Territory Building', 'Travel', 'Comic Book / Strip', 'Spies/Secret Agents', 'Movies / TV / Radio theme', 'Fighting', 'Puzzle', 'Real-time', 'Memory', 'Ancient', 'Music', 'Card Game', 'Exploration', 'Medieval', 'Bluffing', 'Sports', 'Dice', 'Space Exploration', 'Racing', 'Party Game', 'Religious', 'Aviation / Flight', 'City Building', 'Adventure', 'Science Fiction', 'Word Game', 'Zombies', 'Electronic', 'Pike and Shot'}\n"
     ]
    }
   ],
   "source": [
    "print(FILTRO_CATEGORIA)"
   ]
  },
  {
   "cell_type": "code",
   "execution_count": 871,
   "metadata": {},
   "outputs": [
    {
     "data": {
      "text/html": [
       "<div>\n",
       "<style scoped>\n",
       "    .dataframe tbody tr th:only-of-type {\n",
       "        vertical-align: middle;\n",
       "    }\n",
       "\n",
       "    .dataframe tbody tr th {\n",
       "        vertical-align: top;\n",
       "    }\n",
       "\n",
       "    .dataframe thead th {\n",
       "        text-align: right;\n",
       "    }\n",
       "</style>\n",
       "<table border=\"1\" class=\"dataframe\">\n",
       "  <thead>\n",
       "    <tr style=\"text-align: right;\">\n",
       "      <th></th>\n",
       "      <th>ID</th>\n",
       "      <th>ponderacion</th>\n",
       "      <th>primary</th>\n",
       "      <th>yearpublished</th>\n",
       "      <th>maxplayers</th>\n",
       "      <th>playingtime</th>\n",
       "      <th>boardgamecategory</th>\n",
       "      <th>average</th>\n",
       "      <th>avg_sentiment</th>\n",
       "    </tr>\n",
       "  </thead>\n",
       "  <tbody>\n",
       "    <tr>\n",
       "      <th>0</th>\n",
       "      <td>12761</td>\n",
       "      <td>0.652832</td>\n",
       "      <td>ys</td>\n",
       "      <td>2004</td>\n",
       "      <td>4.0</td>\n",
       "      <td>90.0</td>\n",
       "      <td>['Bluffing', 'Medieval']</td>\n",
       "      <td>6.89</td>\n",
       "      <td>0.713208</td>\n",
       "    </tr>\n",
       "    <tr>\n",
       "      <th>1</th>\n",
       "      <td>340</td>\n",
       "      <td>0.635742</td>\n",
       "      <td>frank's_zoo</td>\n",
       "      <td>1999</td>\n",
       "      <td>7.0</td>\n",
       "      <td>60.0</td>\n",
       "      <td>['Animals', 'Card Game']</td>\n",
       "      <td>6.61</td>\n",
       "      <td>0.732860</td>\n",
       "    </tr>\n",
       "    <tr>\n",
       "      <th>2</th>\n",
       "      <td>16986</td>\n",
       "      <td>0.634277</td>\n",
       "      <td>ubongo</td>\n",
       "      <td>2003</td>\n",
       "      <td>4.0</td>\n",
       "      <td>25.0</td>\n",
       "      <td>['Puzzle', 'Real-time']</td>\n",
       "      <td>6.70</td>\n",
       "      <td>0.694026</td>\n",
       "    </tr>\n",
       "    <tr>\n",
       "      <th>3</th>\n",
       "      <td>494</td>\n",
       "      <td>0.632812</td>\n",
       "      <td>ave_caesar</td>\n",
       "      <td>1989</td>\n",
       "      <td>6.0</td>\n",
       "      <td>30.0</td>\n",
       "      <td>['Ancient', 'Racing']</td>\n",
       "      <td>6.63</td>\n",
       "      <td>0.728868</td>\n",
       "    </tr>\n",
       "    <tr>\n",
       "      <th>4</th>\n",
       "      <td>2425</td>\n",
       "      <td>0.629395</td>\n",
       "      <td>battleship</td>\n",
       "      <td>1931</td>\n",
       "      <td>2.0</td>\n",
       "      <td>30.0</td>\n",
       "      <td>[\"Children's Game\", 'Deduction', 'Nautical', '...</td>\n",
       "      <td>4.66</td>\n",
       "      <td>0.625774</td>\n",
       "    </tr>\n",
       "  </tbody>\n",
       "</table>\n",
       "</div>"
      ],
      "text/plain": [
       "      ID  ponderacion      primary  yearpublished  maxplayers  playingtime  \\\n",
       "0  12761     0.652832           ys           2004         4.0         90.0   \n",
       "1    340     0.635742  frank's_zoo           1999         7.0         60.0   \n",
       "2  16986     0.634277       ubongo           2003         4.0         25.0   \n",
       "3    494     0.632812   ave_caesar           1989         6.0         30.0   \n",
       "4   2425     0.629395   battleship           1931         2.0         30.0   \n",
       "\n",
       "                                   boardgamecategory  average  avg_sentiment  \n",
       "0                           ['Bluffing', 'Medieval']     6.89       0.713208  \n",
       "1                           ['Animals', 'Card Game']     6.61       0.732860  \n",
       "2                            ['Puzzle', 'Real-time']     6.70       0.694026  \n",
       "3                              ['Ancient', 'Racing']     6.63       0.728868  \n",
       "4  [\"Children's Game\", 'Deduction', 'Nautical', '...     4.66       0.625774  "
      ]
     },
     "execution_count": 871,
     "metadata": {},
     "output_type": "execute_result"
    }
   ],
   "source": [
    "# Construir la máscara inicial con False para todas las filas de recommender_results\n",
    "mask = pd.Series(False, index=df_analizado.index)\n",
    "\n",
    "# Para cada categoría de las valoradas por el usuario, actualiza la máscara\n",
    "for categoria in FILTRO_CATEGORIA:\n",
    "    mask |= df_analizado['boardgamecategory'].fillna(\"\").str.contains(categoria, case=False, regex=True)\n",
    "\n",
    "df_analizado = df_analizado[mask]\n",
    "\n",
    "df_analizado.head()"
   ]
  },
  {
   "cell_type": "markdown",
   "metadata": {},
   "source": [
    "### Unión de similitud ponderada y promedio de sentimientos\n",
    "A continuación se le atribuirá un 80% a la similitud ponderada y un 20% al promedio de sentimientos para realizar la recomendación de juegos."
   ]
  },
  {
   "cell_type": "code",
   "execution_count": 872,
   "metadata": {},
   "outputs": [
    {
     "name": "stdout",
     "output_type": "stream",
     "text": [
      "Recomendaciones para el usuario 1000rpm\n",
      "      ID                         primary  recomendacion_calculada\n",
      "0  12761                              ys                 0.664614\n",
      "1    340                     frank's_zoo                 0.654873\n",
      "3    494                      ave_caesar                 0.652121\n",
      "5   2653  survive:_escape_from_atlantis!                 0.646358\n",
      "6   2987                   pirate's_cove                 0.646270\n"
     ]
    }
   ],
   "source": [
    "df_analizado['recomendacion_calculada'] = (df_analizado['ponderacion']) * 0.8 + (df_analizado['avg_sentiment'] * 0.2)\n",
    "df_analizado = df_analizado.nlargest(5, 'recomendacion_calculada')\n",
    "print(f\"Recomendaciones para el usuario {user_id}\")\n",
    "print(df_analizado[['ID', 'primary', 'recomendacion_calculada']])"
   ]
  }
 ],
 "metadata": {
  "kernelspec": {
   "display_name": "Python 3",
   "language": "python",
   "name": "python3"
  },
  "language_info": {
   "codemirror_mode": {
    "name": "ipython",
    "version": 3
   },
   "file_extension": ".py",
   "mimetype": "text/x-python",
   "name": "python",
   "nbconvert_exporter": "python",
   "pygments_lexer": "ipython3",
   "version": "3.11.9"
  }
 },
 "nbformat": 4,
 "nbformat_minor": 2
}
